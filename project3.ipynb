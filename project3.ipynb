{
 "cells": [
  {
   "cell_type": "code",
   "execution_count": 1,
   "id": "555d9ebc-8bf4-4753-9bba-f58bb5e8f87f",
   "metadata": {},
   "outputs": [],
   "source": [
    "import pandas as pd\n",
    "import requests\n",
    "from io import StringIO"
   ]
  },
  {
   "cell_type": "markdown",
   "id": "d3aeb61f-2e3a-4bb5-b6c0-9798e841dc0f",
   "metadata": {},
   "source": [
    "**1 шаг проекта** - прочитал данные по предложенным ссылкам, отфильтровал заданный временной период."
   ]
  },
  {
   "cell_type": "code",
   "execution_count": 11,
   "id": "478ac5de-c393-4562-afd8-2a5298f78712",
   "metadata": {},
   "outputs": [],
   "source": [
    "file_id = '1QosQQ4RRNR9rkL4t7sB707h2Uy0XfYJe'\n",
    "download_url = f'https://drive.google.com/uc?id={file_id}&export=download'\n",
    "\n",
    "response = requests.get(download_url)\n",
    "visits_df = pd.read_csv(StringIO(response.text))"
   ]
  },
  {
   "cell_type": "code",
   "execution_count": 17,
   "id": "d8abdab4-b2a8-4f62-9bbf-068e30d856f6",
   "metadata": {},
   "outputs": [],
   "source": [
    "start_date = '2023-03-01'\n",
    "end_date = '2023-09-01'\n",
    "visits_df_filtered = visits_df[(visits_df['date'] >= start_date) & (visits_df['date'] <= end_date)]"
   ]
  },
  {
   "cell_type": "code",
   "execution_count": 24,
   "id": "84e50141-95c5-4535-9623-b8d6b15d0d6e",
   "metadata": {},
   "outputs": [
    {
     "data": {
      "text/html": [
       "<div>\n",
       "<style scoped>\n",
       "    .dataframe tbody tr th:only-of-type {\n",
       "        vertical-align: middle;\n",
       "    }\n",
       "\n",
       "    .dataframe tbody tr th {\n",
       "        vertical-align: top;\n",
       "    }\n",
       "\n",
       "    .dataframe thead th {\n",
       "        text-align: right;\n",
       "    }\n",
       "</style>\n",
       "<table border=\"1\" class=\"dataframe\">\n",
       "  <thead>\n",
       "    <tr style=\"text-align: right;\">\n",
       "      <th></th>\n",
       "      <th>uuid</th>\n",
       "      <th>platform</th>\n",
       "      <th>user_agent</th>\n",
       "      <th>date</th>\n",
       "    </tr>\n",
       "  </thead>\n",
       "  <tbody>\n",
       "    <tr>\n",
       "      <th>0</th>\n",
       "      <td>1de9ea66-70d3-4a1f-8735-df5ef7697fb9</td>\n",
       "      <td>web</td>\n",
       "      <td>Mozilla/5.0 (Macintosh; Intel Mac OS X 10_11_2...</td>\n",
       "      <td>2023-03-01T13:29:22</td>\n",
       "    </tr>\n",
       "    <tr>\n",
       "      <th>1</th>\n",
       "      <td>f149f542-e935-4870-9734-6b4501eaf614</td>\n",
       "      <td>web</td>\n",
       "      <td>Mozilla/5.0 (X11; CrOS x86_64 8172.45.0) Apple...</td>\n",
       "      <td>2023-03-01T16:44:28</td>\n",
       "    </tr>\n",
       "    <tr>\n",
       "      <th>2</th>\n",
       "      <td>f149f542-e935-4870-9734-6b4501eaf614</td>\n",
       "      <td>web</td>\n",
       "      <td>Mozilla/5.0 (X11; CrOS x86_64 8172.45.0) Apple...</td>\n",
       "      <td>2023-03-06T06:12:36</td>\n",
       "    </tr>\n",
       "    <tr>\n",
       "      <th>3</th>\n",
       "      <td>08f0ebd4-950c-4dd9-8e97-b5bdf073eed1</td>\n",
       "      <td>web</td>\n",
       "      <td>Mozilla/5.0 (X11; Ubuntu; Linux x86_64; rv:109...</td>\n",
       "      <td>2023-03-01T20:16:37</td>\n",
       "    </tr>\n",
       "    <tr>\n",
       "      <th>4</th>\n",
       "      <td>08f0ebd4-950c-4dd9-8e97-b5bdf073eed1</td>\n",
       "      <td>web</td>\n",
       "      <td>Mozilla/5.0 (X11; Ubuntu; Linux x86_64; rv:109...</td>\n",
       "      <td>2023-03-05T17:42:47</td>\n",
       "    </tr>\n",
       "  </tbody>\n",
       "</table>\n",
       "</div>"
      ],
      "text/plain": [
       "                                   uuid platform  \\\n",
       "0  1de9ea66-70d3-4a1f-8735-df5ef7697fb9      web   \n",
       "1  f149f542-e935-4870-9734-6b4501eaf614      web   \n",
       "2  f149f542-e935-4870-9734-6b4501eaf614      web   \n",
       "3  08f0ebd4-950c-4dd9-8e97-b5bdf073eed1      web   \n",
       "4  08f0ebd4-950c-4dd9-8e97-b5bdf073eed1      web   \n",
       "\n",
       "                                          user_agent                 date  \n",
       "0  Mozilla/5.0 (Macintosh; Intel Mac OS X 10_11_2...  2023-03-01T13:29:22  \n",
       "1  Mozilla/5.0 (X11; CrOS x86_64 8172.45.0) Apple...  2023-03-01T16:44:28  \n",
       "2  Mozilla/5.0 (X11; CrOS x86_64 8172.45.0) Apple...  2023-03-06T06:12:36  \n",
       "3  Mozilla/5.0 (X11; Ubuntu; Linux x86_64; rv:109...  2023-03-01T20:16:37  \n",
       "4  Mozilla/5.0 (X11; Ubuntu; Linux x86_64; rv:109...  2023-03-05T17:42:47  "
      ]
     },
     "execution_count": 24,
     "metadata": {},
     "output_type": "execute_result"
    }
   ],
   "source": [
    "visits_df_filtered.head()"
   ]
  },
  {
   "cell_type": "code",
   "execution_count": 19,
   "id": "1c82c57f-7529-467c-bcd0-ebc8354e878a",
   "metadata": {},
   "outputs": [
    {
     "data": {
      "text/html": [
       "<div>\n",
       "<style scoped>\n",
       "    .dataframe tbody tr th:only-of-type {\n",
       "        vertical-align: middle;\n",
       "    }\n",
       "\n",
       "    .dataframe tbody tr th {\n",
       "        vertical-align: top;\n",
       "    }\n",
       "\n",
       "    .dataframe thead th {\n",
       "        text-align: right;\n",
       "    }\n",
       "</style>\n",
       "<table border=\"1\" class=\"dataframe\">\n",
       "  <thead>\n",
       "    <tr style=\"text-align: right;\">\n",
       "      <th></th>\n",
       "      <th>uuid</th>\n",
       "      <th>platform</th>\n",
       "      <th>user_agent</th>\n",
       "      <th>date</th>\n",
       "    </tr>\n",
       "  </thead>\n",
       "  <tbody>\n",
       "    <tr>\n",
       "      <th>count</th>\n",
       "      <td>1000</td>\n",
       "      <td>1000</td>\n",
       "      <td>1000</td>\n",
       "      <td>1000</td>\n",
       "    </tr>\n",
       "    <tr>\n",
       "      <th>unique</th>\n",
       "      <td>519</td>\n",
       "      <td>3</td>\n",
       "      <td>28</td>\n",
       "      <td>996</td>\n",
       "    </tr>\n",
       "    <tr>\n",
       "      <th>top</th>\n",
       "      <td>251a0926-ece3-4d77-aa42-ab569fdf9fe2</td>\n",
       "      <td>web</td>\n",
       "      <td>Mozilla/5.0 (Windows NT 10.0; Win64; x64) Appl...</td>\n",
       "      <td>2023-03-01T08:01:45</td>\n",
       "    </tr>\n",
       "    <tr>\n",
       "      <th>freq</th>\n",
       "      <td>4</td>\n",
       "      <td>954</td>\n",
       "      <td>71</td>\n",
       "      <td>2</td>\n",
       "    </tr>\n",
       "  </tbody>\n",
       "</table>\n",
       "</div>"
      ],
      "text/plain": [
       "                                        uuid platform  \\\n",
       "count                                   1000     1000   \n",
       "unique                                   519        3   \n",
       "top     251a0926-ece3-4d77-aa42-ab569fdf9fe2      web   \n",
       "freq                                       4      954   \n",
       "\n",
       "                                               user_agent                 date  \n",
       "count                                                1000                 1000  \n",
       "unique                                                 28                  996  \n",
       "top     Mozilla/5.0 (Windows NT 10.0; Win64; x64) Appl...  2023-03-01T08:01:45  \n",
       "freq                                                   71                    2  "
      ]
     },
     "execution_count": 19,
     "metadata": {},
     "output_type": "execute_result"
    }
   ],
   "source": [
    "visits_df_filtered.describe()"
   ]
  },
  {
   "cell_type": "code",
   "execution_count": 12,
   "id": "ee3f51a1-cbba-4df8-9e2e-c4710f528ee3",
   "metadata": {},
   "outputs": [],
   "source": [
    "file_id = '1AeQz0kaSgz0lxYSDtuNm36muhy5fRCzZ'\n",
    "download_url = f'https://drive.google.com/uc?id={file_id}&export=download'\n",
    "\n",
    "response = requests.get(download_url)\n",
    "registrations_df = pd.read_csv(StringIO(response.text))"
   ]
  },
  {
   "cell_type": "code",
   "execution_count": 20,
   "id": "71670922-3161-4972-9a15-948d57b2c3c2",
   "metadata": {},
   "outputs": [],
   "source": [
    "registrations_df_filtered = registrations_df[(visits_df['date'] >= start_date) & (visits_df['date'] <= end_date)]"
   ]
  },
  {
   "cell_type": "code",
   "execution_count": 25,
   "id": "12bc07f1-be87-449d-a768-41a199a27a4a",
   "metadata": {},
   "outputs": [
    {
     "data": {
      "text/html": [
       "<div>\n",
       "<style scoped>\n",
       "    .dataframe tbody tr th:only-of-type {\n",
       "        vertical-align: middle;\n",
       "    }\n",
       "\n",
       "    .dataframe tbody tr th {\n",
       "        vertical-align: top;\n",
       "    }\n",
       "\n",
       "    .dataframe thead th {\n",
       "        text-align: right;\n",
       "    }\n",
       "</style>\n",
       "<table border=\"1\" class=\"dataframe\">\n",
       "  <thead>\n",
       "    <tr style=\"text-align: right;\">\n",
       "      <th></th>\n",
       "      <th>date</th>\n",
       "      <th>user_id</th>\n",
       "      <th>email</th>\n",
       "      <th>platform</th>\n",
       "      <th>registration_type</th>\n",
       "    </tr>\n",
       "  </thead>\n",
       "  <tbody>\n",
       "    <tr>\n",
       "      <th>0</th>\n",
       "      <td>2023-03-01T00:25:39</td>\n",
       "      <td>8838849</td>\n",
       "      <td>joseph95@example.org</td>\n",
       "      <td>web</td>\n",
       "      <td>google</td>\n",
       "    </tr>\n",
       "    <tr>\n",
       "      <th>1</th>\n",
       "      <td>2023-03-01T14:53:01</td>\n",
       "      <td>8741065</td>\n",
       "      <td>janetsuarez@example.net</td>\n",
       "      <td>web</td>\n",
       "      <td>yandex</td>\n",
       "    </tr>\n",
       "    <tr>\n",
       "      <th>2</th>\n",
       "      <td>2023-03-01T14:27:36</td>\n",
       "      <td>1866654</td>\n",
       "      <td>robert67@example.org</td>\n",
       "      <td>web</td>\n",
       "      <td>google</td>\n",
       "    </tr>\n",
       "    <tr>\n",
       "      <th>3</th>\n",
       "      <td>2023-03-01T02:42:34</td>\n",
       "      <td>1577584</td>\n",
       "      <td>elam@example.net</td>\n",
       "      <td>web</td>\n",
       "      <td>apple</td>\n",
       "    </tr>\n",
       "    <tr>\n",
       "      <th>4</th>\n",
       "      <td>2023-03-01T10:27:14</td>\n",
       "      <td>4765395</td>\n",
       "      <td>stephanie68@example.net</td>\n",
       "      <td>web</td>\n",
       "      <td>yandex</td>\n",
       "    </tr>\n",
       "  </tbody>\n",
       "</table>\n",
       "</div>"
      ],
      "text/plain": [
       "                  date  user_id                    email platform  \\\n",
       "0  2023-03-01T00:25:39  8838849     joseph95@example.org      web   \n",
       "1  2023-03-01T14:53:01  8741065  janetsuarez@example.net      web   \n",
       "2  2023-03-01T14:27:36  1866654     robert67@example.org      web   \n",
       "3  2023-03-01T02:42:34  1577584         elam@example.net      web   \n",
       "4  2023-03-01T10:27:14  4765395  stephanie68@example.net      web   \n",
       "\n",
       "  registration_type  \n",
       "0            google  \n",
       "1            yandex  \n",
       "2            google  \n",
       "3             apple  \n",
       "4            yandex  "
      ]
     },
     "execution_count": 25,
     "metadata": {},
     "output_type": "execute_result"
    }
   ],
   "source": [
    "registrations_df_filtered.head()"
   ]
  },
  {
   "cell_type": "code",
   "execution_count": 21,
   "id": "6054ade3-9330-4e01-8334-dd05d86a4296",
   "metadata": {},
   "outputs": [
    {
     "data": {
      "text/html": [
       "<div>\n",
       "<style scoped>\n",
       "    .dataframe tbody tr th:only-of-type {\n",
       "        vertical-align: middle;\n",
       "    }\n",
       "\n",
       "    .dataframe tbody tr th {\n",
       "        vertical-align: top;\n",
       "    }\n",
       "\n",
       "    .dataframe thead th {\n",
       "        text-align: right;\n",
       "    }\n",
       "</style>\n",
       "<table border=\"1\" class=\"dataframe\">\n",
       "  <thead>\n",
       "    <tr style=\"text-align: right;\">\n",
       "      <th></th>\n",
       "      <th>user_id</th>\n",
       "    </tr>\n",
       "  </thead>\n",
       "  <tbody>\n",
       "    <tr>\n",
       "      <th>count</th>\n",
       "      <td>1.000000e+03</td>\n",
       "    </tr>\n",
       "    <tr>\n",
       "      <th>mean</th>\n",
       "      <td>4.488623e+06</td>\n",
       "    </tr>\n",
       "    <tr>\n",
       "      <th>std</th>\n",
       "      <td>2.620568e+06</td>\n",
       "    </tr>\n",
       "    <tr>\n",
       "      <th>min</th>\n",
       "      <td>2.236800e+04</td>\n",
       "    </tr>\n",
       "    <tr>\n",
       "      <th>25%</th>\n",
       "      <td>2.235489e+06</td>\n",
       "    </tr>\n",
       "    <tr>\n",
       "      <th>50%</th>\n",
       "      <td>4.473044e+06</td>\n",
       "    </tr>\n",
       "    <tr>\n",
       "      <th>75%</th>\n",
       "      <td>6.779707e+06</td>\n",
       "    </tr>\n",
       "    <tr>\n",
       "      <th>max</th>\n",
       "      <td>8.881772e+06</td>\n",
       "    </tr>\n",
       "  </tbody>\n",
       "</table>\n",
       "</div>"
      ],
      "text/plain": [
       "            user_id\n",
       "count  1.000000e+03\n",
       "mean   4.488623e+06\n",
       "std    2.620568e+06\n",
       "min    2.236800e+04\n",
       "25%    2.235489e+06\n",
       "50%    4.473044e+06\n",
       "75%    6.779707e+06\n",
       "max    8.881772e+06"
      ]
     },
     "execution_count": 21,
     "metadata": {},
     "output_type": "execute_result"
    }
   ],
   "source": [
    "registrations_df_filtered.describe()"
   ]
  },
  {
   "cell_type": "markdown",
   "id": "bf0c5f02-a248-40dc-9d6f-14d8bb1efa43",
   "metadata": {},
   "source": [
    "**2 шаг проекта** - Запросил данные по API за период 2023-03-01 -> 2023-09-01"
   ]
  },
  {
   "cell_type": "code",
   "execution_count": 10,
   "id": "ae1addbb-7605-4b8d-9207-a4107fae8b5f",
   "metadata": {},
   "outputs": [],
   "source": [
    "resp_visits = requests.get('https://data-charts-api.hexlet.app/visits?begin=2023-03-01&end=2023-09-01')"
   ]
  },
  {
   "cell_type": "code",
   "execution_count": 11,
   "id": "e232b2e7-93d1-4dbb-94c6-e3e17ff6b031",
   "metadata": {},
   "outputs": [],
   "source": [
    "resp_registrations = requests.get('https://data-charts-api.hexlet.app/registrations?begin=2023-03-01&end=2023-09-01')"
   ]
  },
  {
   "cell_type": "code",
   "execution_count": 12,
   "id": "f2c9e853-7175-4524-8389-f88f16330687",
   "metadata": {},
   "outputs": [],
   "source": [
    "visits_data = resp_visits.json()\n",
    "registrations_data = resp_registrations.json()"
   ]
  },
  {
   "cell_type": "code",
   "execution_count": null,
   "id": "08a58657-9f15-47dd-ba46-a2619549914a",
   "metadata": {},
   "outputs": [],
   "source": []
  }
 ],
 "metadata": {
  "kernelspec": {
   "display_name": "Python 3 (ipykernel)",
   "language": "python",
   "name": "python3"
  },
  "language_info": {
   "codemirror_mode": {
    "name": "ipython",
    "version": 3
   },
   "file_extension": ".py",
   "mimetype": "text/x-python",
   "name": "python",
   "nbconvert_exporter": "python",
   "pygments_lexer": "ipython3",
   "version": "3.11.10"
  }
 },
 "nbformat": 4,
 "nbformat_minor": 5
}
